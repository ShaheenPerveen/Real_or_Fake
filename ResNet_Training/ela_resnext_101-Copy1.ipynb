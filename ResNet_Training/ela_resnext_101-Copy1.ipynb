{
 "cells": [
  {
   "cell_type": "code",
   "execution_count": 1,
   "metadata": {},
   "outputs": [
    {
     "name": "stderr",
     "output_type": "stream",
     "text": [
      "/home/FRACTAL/shaheen.perveen/anaconda3/envs/fastai/lib/python3.6/site-packages/ipykernel_launcher.py:37: SettingWithCopyWarning: \n",
      "A value is trying to be set on a copy of a slice from a DataFrame.\n",
      "Try using .loc[row_indexer,col_indexer] = value instead\n",
      "\n",
      "See the caveats in the documentation: http://pandas.pydata.org/pandas-docs/stable/indexing.html#indexing-view-versus-copy\n"
     ]
    }
   ],
   "source": [
    "%reload_ext autoreload\n",
    "%autoreload 2\n",
    "%matplotlib inline\n",
    "\n",
    "output_path = '/home/FRACTAL/shaheen.perveen/stage3/model_outputs/ela_resnext101_64/'\n",
    "input_path = '/home/FRACTAL/shaheen.perveen/stage3/fakers/stage-3/stage3_image_data/train/train_ela/'\n",
    "\n",
    "import os\n",
    "os.chdir('/home/FRACTAL/shaheen.perveen/fastai/old')\n",
    "# This file contains all the main external libs we'll use\n",
    "from fastai.imports import *\n",
    "\n",
    "from fastai.transforms import *\n",
    "from fastai.conv_learner import *\n",
    "from fastai.model import *\n",
    "from fastai.dataset import *\n",
    "from fastai.sgdr import *\n",
    "from fastai.plots import *\n",
    "from pathlib import *\n",
    "import pandas as pd\n",
    "import numpy as np\n",
    "\n",
    "#checking wheteher cuda and cudnn are available. Cuda is necessary & Cudnn is optional, it makes computation faster\n",
    "torch.cuda.is_available()\n",
    "\n",
    "torch.backends.cudnn.enabled\n",
    "\n",
    "#using  device 0-gpu\n",
    "torch.cuda.set_device(1)\n",
    "torch.cuda.current_device()\n",
    "\n",
    "labels_model = pd.read_csv(input_path+\"label_csv.csv\")\n",
    "\n",
    "labels = labels_model[['class']]\n",
    "# print(labels.head(1))\n",
    "\n",
    "labels['class'] = np.where(labels['class'] == 'real',1,0)\n",
    "# print(labels.head(1))\n",
    "\n",
    "# print(labels.describe())\n",
    "\n",
    "\n",
    "def get_data(f_model,sz,bs,val_idxs,aug_tfms,root_path,train_folder,label_csv,test_folder,skip_header,augmentation_required):\n",
    "    if (augmentation_required):\n",
    "        tfms = tfms_from_model(f_model, sz,aug_tfms=aug_tfms,max_zoom=1.1)\n",
    "    else:\n",
    "        tfms =  tfms_from_model(f_model, sz)\n",
    "    \n",
    "    label_csv.to_csv(str(root_path)+'temp_label_file.csv',index=False)\n",
    "    \n",
    "    return ImageClassifierData.from_csv(root_path, train_folder,str(root_path)+'temp_label_file.csv',bs=bs,tfms=tfms,\n",
    "                     val_idxs=val_idxs,test_name=test_folder,skip_header=skip_header)\n",
    "\n",
    "def exp_name(output_path,freeze,model_name,lrn,sz):\n",
    "    return output_path+freeze+'_'+'_'+model_name+'_lr'+str(lrn)+'_sz'+str(sz)\n",
    "\n",
    "label_csv = labels_model.copy()\n",
    "#a root path of the data (used for storing trained models, precomputed values, etc)\n",
    "root_path=('/home/FRACTAL/shaheen.perveen/stage3/temp_model_parameters/')\n",
    "#a name of the folder in which training images are contained.\n",
    "train_folder = ('')\n",
    "#a name of the folder which contains test images.\n",
    "test_folder= ('/home/FRACTAL/shaheen.perveen/stage3/fakers/stage-3/stage3_image_data/test/test')\n",
    "\n",
    "#for generating the validation indexes\n",
    "from sklearn.model_selection import StratifiedShuffleSplit\n",
    "sss = StratifiedShuffleSplit(n_splits=1, test_size=0.2, random_state=1729)\n",
    "labels_splits = labels.copy()\n",
    "X= labels['class'].astype(int)\n",
    "y=labels['class'].astype(int)\n",
    "\n",
    "for train_index, test_index in sss.split(X, y):\n",
    "    trn_indx = train_index\n",
    "    val_idxs = test_index\n",
    "\n",
    "f_model=resnext101_64\n",
    "sz=224\n",
    "aug_tfms=transforms_side_on\n",
    "max_zoom=1.1\n",
    "bs=4\n",
    "#use this if we dont need augmentation\n",
    "augmentation_required = True\n",
    "\n",
    "model_name=str(f_model).split(' ')[1]\n"
   ]
  },
  {
   "cell_type": "code",
   "execution_count": null,
   "metadata": {},
   "outputs": [],
   "source": []
  },
  {
   "cell_type": "code",
   "execution_count": 2,
   "metadata": {},
   "outputs": [],
   "source": [
    "#making data object\n",
    "data = get_data(f_model,sz,bs,val_idxs,aug_tfms,root_path,train_folder,label_csv,test_folder,skip_header=True,augmentation_required=augmentation_required)"
   ]
  },
  {
   "cell_type": "code",
   "execution_count": 3,
   "metadata": {},
   "outputs": [],
   "source": [
    "learn = ConvLearner.pretrained(f_model, data,precompute=False)"
   ]
  },
  {
   "cell_type": "code",
   "execution_count": 4,
   "metadata": {},
   "outputs": [],
   "source": [
    "lrn=8e-5"
   ]
  },
  {
   "cell_type": "code",
   "execution_count": 5,
   "metadata": {},
   "outputs": [],
   "source": [
    "from sklearn.metrics import f1_score\n",
    "import warnings\n",
    "def f1(log_preds, targs, start=0.1, end=0.8, step=0.1):\n",
    "    with warnings.catch_warnings():\n",
    "        warnings.simplefilter(\"ignore\")\n",
    "        pos_predss = torch.exp(log_preds) \n",
    "        return max([f1_score(targs, torch.max(pos_predss > th, dim=1)[1], average='weighted')\n",
    "                    for th in np.arange(start,end,step)])"
   ]
  },
  {
   "cell_type": "code",
   "execution_count": 6,
   "metadata": {},
   "outputs": [
    {
     "data": {
      "text/plain": [
       "'/home/FRACTAL/shaheen.perveen/stage3/model_outputs/ela_resnext101_64/frz__resnext101_64_lr8e-05_sz224'"
      ]
     },
     "execution_count": 6,
     "metadata": {},
     "output_type": "execute_result"
    }
   ],
   "source": [
    "exp_name(output_path,'frz',model_name,lrn,sz)"
   ]
  },
  {
   "cell_type": "code",
   "execution_count": 7,
   "metadata": {},
   "outputs": [],
   "source": [
    "# #\n",
    "# sz=224\n",
    "# learn.load(exp_name(output_path,'unfrz',model_name,lrn,sz))\n",
    "# learn.freeze()\n",
    "\n",
    "sz=400\n",
    "# #making data object\n",
    "data = get_data(f_model,sz,bs,val_idxs,aug_tfms,root_path,train_folder,label_csv,test_folder,skip_header=True,augmentation_required=augmentation_required)\n",
    "learn.set_data(data)"
   ]
  },
  {
   "cell_type": "code",
   "execution_count": 8,
   "metadata": {},
   "outputs": [
    {
     "data": {
      "text/plain": [
       "'/home/FRACTAL/shaheen.perveen/stage3/model_outputs/ela_resnext101_64/frz__resnext101_64_lr8e-05_sz400'"
      ]
     },
     "execution_count": 8,
     "metadata": {},
     "output_type": "execute_result"
    }
   ],
   "source": [
    "exp_name(output_path,'frz',model_name,lrn,sz)"
   ]
  },
  {
   "cell_type": "code",
   "execution_count": 9,
   "metadata": {},
   "outputs": [],
   "source": [
    "# lrn=8e-5\n",
    "\n",
    "# learn.fit(lrn, 3, cycle_len=1, cycle_mult=2, metrics=[accuracy, f1])\n",
    "\n",
    "# learn.save(exp_name(output_path,'frz',model_name,lrn,sz))\n",
    "#loading the previous saved model and unfreezing the network for more training\n",
    "learn.load(exp_name(output_path,'frz',model_name,lrn,sz))"
   ]
  },
  {
   "cell_type": "code",
   "execution_count": 10,
   "metadata": {},
   "outputs": [],
   "source": [
    "learn.freeze()"
   ]
  },
  {
   "cell_type": "code",
   "execution_count": 11,
   "metadata": {},
   "outputs": [
    {
     "data": {
      "application/vnd.jupyter.widget-view+json": {
       "model_id": "04c8d56bd31f4858b047fd7d52e90373",
       "version_major": 2,
       "version_minor": 0
      },
      "text/plain": [
       "HBox(children=(IntProgress(value=0, description='Epoch', max=1, style=ProgressStyle(description_width='initial…"
      ]
     },
     "metadata": {},
     "output_type": "display_data"
    },
    {
     "name": "stdout",
     "output_type": "stream",
     "text": [
      " 52%|█████▏    | 3346/6452 [13:39<11:11,  4.62it/s, loss=1.59]   "
     ]
    },
    {
     "data": {
      "image/png": "[encoded data removed]",
      "text/plain": [
       "<Figure size 432x288 with 1 Axes>"
      ]
     },
     "metadata": {
      "needs_background": "light"
     },
     "output_type": "display_data"
    }
   ],
   "source": [
    "lrf=learn.lr_find()\n",
    "\n",
    "learn.sched.plot()"
   ]
  },
  {
   "cell_type": "code",
   "execution_count": null,
   "metadata": {},
   "outputs": [
    {
     "data": {
      "application/vnd.jupyter.widget-view+json": {
       "model_id": "746c54d7f0ed4e81b95583e66e865d27",
       "version_major": 2,
       "version_minor": 0
      },
      "text/plain": [
       "HBox(children=(IntProgress(value=0, description='Epoch', max=3, style=ProgressStyle(description_width='initial…"
      ]
     },
     "metadata": {},
     "output_type": "display_data"
    },
    {
     "name": "stdout",
     "output_type": "stream",
     "text": [
      "Validation:  83%|████████▎ | 1343/1613 [02:58<00:27,  9.93it/s]  "
     ]
    }
   ],
   "source": [
    "learn.unfreeze()\n",
    "learn.bn_freeze(True)\n",
    "\n",
    "lr=np.array([lrn/100,lrn/10,lrn])\n",
    "\n",
    "learn.fit(lr, 2, cycle_len=1,cycle_mult=2, metrics=[accuracy, f1],cycle_save_name=exp_name(output_path,'unfrz_freezeafter_load',model_name,lrn,sz))\n",
    "learn.save(exp_name(output_path,'unfrz_freezeafter_load',model_name,lrn,sz))"
   ]
  },
  {
   "cell_type": "code",
   "execution_count": null,
   "metadata": {},
   "outputs": [
    {
     "data": {
      "application/vnd.jupyter.widget-view+json": {
       "model_id": "217590bc077c4b5898e4fe9f08e64cd9",
       "version_major": 2,
       "version_minor": 0
      },
      "text/plain": [
       "HBox(children=(IntProgress(value=0, description='Epoch', max=7, style=ProgressStyle(description_width='initial…"
      ]
     },
     "metadata": {},
     "output_type": "display_data"
    },
    {
     "name": "stdout",
     "output_type": "stream",
     "text": [
      "epoch      trn_loss   val_loss   accuracy   f1                   \n",
      "    0      0.430364   0.407495   0.811066   0.966026  \n",
      "    1      0.43565    0.406385   0.811996   0.965979             \n",
      "    2      0.466842   0.40581    0.810911   0.966481             \n",
      "    3      0.418545   0.405263   0.812461   0.969427             \n",
      "    4      0.404108   0.402967   0.813081   0.963345             \n",
      " 64%|██████▎   | 4104/6452 [17:49<13:05,  2.99it/s, loss=0.378]  "
     ]
    }
   ],
   "source": [
    "#\n",
    "learn.load(exp_name(output_path,'unfrz',model_name,lrn,sz))\n",
    "learn.freeze()\n",
    "\n",
    "sz=512\n",
    "#making data object\n",
    "data = get_data(f_model,sz,bs,val_idxs,aug_tfms,root_path,train_folder,label_csv,test_folder,skip_header=True,augmentation_required=augmentation_required)\n",
    "learn.set_data(data)\n",
    "\n",
    "\n",
    "\n",
    "lrn=8e-5\n",
    "\n",
    "learn.fit(lrn, 3, cycle_len=1, cycle_mult=2,metrics=[accuracy, f1],cycle_save_name=exp_name(output_path,'unfrz',model_name,lrn,sz))\n",
    "\n",
    "learn.save(exp_name(output_path,'frz',model_name,lrn,sz))\n",
    "\n",
    "#loading the previous saved model and unfreezing the network for more training\n",
    "learn.load(exp_name(output_path,'frz',model_name,lrn,sz))\n",
    "learn.unfreeze()\n",
    "learn.bn_freeze(True)\n",
    "\n",
    "lr=np.array([lrn/100,lrn/10,lrn])\n",
    "\n",
    "learn.fit(lr, 2, cycle_len=1,cycle_mult=2,metrics=[accuracy, f1],cycle_save_name=exp_name(output_path,'unfrz',model_name,lrn,sz))\n",
    "learn.save(exp_name(output_path,'unfrz',model_name,lrn,sz))"
   ]
  },
  {
   "cell_type": "code",
   "execution_count": null,
   "metadata": {},
   "outputs": [],
   "source": []
  }
 ],
 "metadata": {
  "kernelspec": {
   "display_name": "Python 3",
   "language": "python",
   "name": "python3"
  },
  "language_info": {
   "codemirror_mode": {
    "name": "ipython",
    "version": 3
   },
   "file_extension": ".py",
   "mimetype": "text/x-python",
   "name": "python",
   "nbconvert_exporter": "python",
   "pygments_lexer": "ipython3",
   "version": "3.7.1"
  }
 },
 "nbformat": 4,
 "nbformat_minor": 2
}
