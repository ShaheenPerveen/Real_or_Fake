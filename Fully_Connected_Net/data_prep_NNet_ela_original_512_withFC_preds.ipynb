{
 "cells": [
  {
   "cell_type": "code",
   "execution_count": 1,
   "metadata": {},
   "outputs": [],
   "source": [
    "import os\n",
    "os.chdir('/home/ubuntu/fastai/old')\n",
    "\n",
    "from fastai.structured import *\n",
    "from fastai.column_data import *\n",
    "import pandas as pd\n",
    "import numpy as np\n",
    "import glob\n",
    "import os\n",
    "\n",
    "input_path = '/home/ubuntu/fakers/model_output_ela/'\n",
    "# original_path_fc = '/home/ubuntu/fakers/model_output_ela/ensemble_original_base/'"
   ]
  },
  {
   "cell_type": "code",
   "execution_count": 2,
   "metadata": {},
   "outputs": [],
   "source": [
    "originalFC = pd.read_csv(input_path+'fc_output_unfrz_resnext101_64_512_org.csv')"
   ]
  },
  {
   "cell_type": "code",
   "execution_count": 3,
   "metadata": {},
   "outputs": [],
   "source": [
    "elaFC = pd.read_csv(input_path+'fc_output_unfrz_resnext101_64_512sz_ela.csv')"
   ]
  },
  {
   "cell_type": "code",
   "execution_count": 4,
   "metadata": {},
   "outputs": [],
   "source": [
    "def chnge_column(column, type_):\n",
    "    x = list(column)\n",
    "    y = [i+'_'+type_ for i in x[:-2]] + x[-2:]\n",
    "    return y\n",
    "# y = y + x[-2:]\n",
    "# print(len(x))\n",
    "# print(len(y))\n",
    "elaFC.columns = chnge_column(elaFC.columns,'ela')\n",
    "originalFC.columns = chnge_column(originalFC.columns, 'org')"
   ]
  },
  {
   "cell_type": "code",
   "execution_count": 7,
   "metadata": {},
   "outputs": [
    {
     "data": {
      "text/plain": [
       "Index(['0_ela', '1_ela', '2_ela', '3_ela', '4_ela', '5_ela', '6_ela', '7_ela',\n",
       "       '8_ela', '9_ela',\n",
       "       ...\n",
       "       '504_ela', '505_ela', '506_ela', '507_ela', '508_ela', '509_ela',\n",
       "       '510_ela', '511_ela', 'imageid', 'orginal_y'],\n",
       "      dtype='object', length=514)"
      ]
     },
     "execution_count": 7,
     "metadata": {},
     "output_type": "execute_result"
    }
   ],
   "source": [
    "elaFC.columns\n",
    "# elaFC.shape"
   ]
  },
  {
   "cell_type": "code",
   "execution_count": 8,
   "metadata": {},
   "outputs": [
    {
     "data": {
      "text/plain": [
       "Index(['0_org', '1_org', '2_org', '3_org', '4_org', '5_org', '6_org', '7_org',\n",
       "       '8_org', '9_org',\n",
       "       ...\n",
       "       '504_org', '505_org', '506_org', '507_org', '508_org', '509_org',\n",
       "       '510_org', '511_org', 'imageid', 'orginal_y'],\n",
       "      dtype='object', length=514)"
      ]
     },
     "execution_count": 8,
     "metadata": {},
     "output_type": "execute_result"
    }
   ],
   "source": [
    "originalFC.columns\n",
    "# originalFC.shape"
   ]
  },
  {
   "cell_type": "code",
   "execution_count": 9,
   "metadata": {},
   "outputs": [
    {
     "data": {
      "text/plain": [
       "'new_real20190208090259_b94639e64f3efbfb92af036355aed6fc'"
      ]
     },
     "execution_count": 9,
     "metadata": {},
     "output_type": "execute_result"
    }
   ],
   "source": [
    "elaFC['imageid1'] = elaFC['imageid'].apply(lambda x: x.split(\"/\")[-1].split('.')[0][:-4])\n",
    "elaFC['imageid1'][0]"
   ]
  },
  {
   "cell_type": "code",
   "execution_count": 10,
   "metadata": {},
   "outputs": [
    {
     "data": {
      "text/plain": [
       "'new_real20190208090259_b94639e64f3efbfb92af036355aed6fc'"
      ]
     },
     "execution_count": 10,
     "metadata": {},
     "output_type": "execute_result"
    }
   ],
   "source": [
    "originalFC['imageid1'] = originalFC['imageid'].apply(lambda x: x.split(\"/\")[-1].split('.')[0])\n",
    "originalFC['imageid1'] [0]"
   ]
  },
  {
   "cell_type": "code",
   "execution_count": 11,
   "metadata": {},
   "outputs": [
    {
     "data": {
      "text/plain": [
       "(2, 515)"
      ]
     },
     "execution_count": 11,
     "metadata": {},
     "output_type": "execute_result"
    }
   ],
   "source": [
    "corrupt = originalFC[~originalFC['imageid1'].isin(elaFC['imageid1'])]\n",
    "corrupt.shape"
   ]
  },
  {
   "cell_type": "code",
   "execution_count": 12,
   "metadata": {},
   "outputs": [
    {
     "data": {
      "text/plain": [
       "Int64Index([27893, 30662], dtype='int64')"
      ]
     },
     "execution_count": 12,
     "metadata": {},
     "output_type": "execute_result"
    }
   ],
   "source": [
    "corrupt.index"
   ]
  },
  {
   "cell_type": "code",
   "execution_count": 14,
   "metadata": {},
   "outputs": [
    {
     "name": "stdout",
     "output_type": "stream",
     "text": [
      "/data2/geethaSaikrishna.anumukonda/fakers/stage-3/stage3_image_data/train/fake/new_fake20190208093603_new_fake20190208091454_7271aec85d38ba512829278fa3d97453.jpg\n",
      "/data2/geethaSaikrishna.anumukonda/fc/train_ela/fake_all/new_fake20190208093924_new_fake20190208091345_f30028aadb49060106ccd7693853ea76_ela.jpg\n"
     ]
    }
   ],
   "source": [
    "print(originalFC.iloc[30662,-3])\n",
    "print(elaFC.iloc[30662,-3])"
   ]
  },
  {
   "cell_type": "code",
   "execution_count": 15,
   "metadata": {},
   "outputs": [],
   "source": [
    "elaFC.iloc[30662,:] = list(originalFC.iloc[30662,:])\n",
    "elaFC.iloc[27893,:] = list(originalFC.iloc[27893,:])"
   ]
  },
  {
   "cell_type": "code",
   "execution_count": 16,
   "metadata": {},
   "outputs": [
    {
     "data": {
      "text/plain": [
       "(32260, 1028)"
      ]
     },
     "execution_count": 16,
     "metadata": {},
     "output_type": "execute_result"
    }
   ],
   "source": [
    "final_fc = elaFC.merge(originalFC, on=['imageid1', 'orginal_y'])\n",
    "final_fc.shape"
   ]
  },
  {
   "cell_type": "code",
   "execution_count": 17,
   "metadata": {},
   "outputs": [
    {
     "name": "stdout",
     "output_type": "stream",
     "text": [
      "['0_ela', '1_ela', '2_ela', '3_ela', '4_ela', '5_ela', '6_ela', '7_ela', '8_ela', '9_ela', '10_ela', '11_ela', '12_ela', '13_ela', '14_ela', '15_ela', '16_ela', '17_ela', '18_ela', '19_ela', '20_ela', '21_ela', '22_ela', '23_ela', '24_ela', '25_ela', '26_ela', '27_ela', '28_ela', '29_ela', '30_ela', '31_ela', '32_ela', '33_ela', '34_ela', '35_ela', '36_ela', '37_ela', '38_ela', '39_ela', '40_ela', '41_ela', '42_ela', '43_ela', '44_ela', '45_ela', '46_ela', '47_ela', '48_ela', '49_ela', '50_ela', '51_ela', '52_ela', '53_ela', '54_ela', '55_ela', '56_ela', '57_ela', '58_ela', '59_ela', '60_ela', '61_ela', '62_ela', '63_ela', '64_ela', '65_ela', '66_ela', '67_ela', '68_ela', '69_ela', '70_ela', '71_ela', '72_ela', '73_ela', '74_ela', '75_ela', '76_ela', '77_ela', '78_ela', '79_ela', '80_ela', '81_ela', '82_ela', '83_ela', '84_ela', '85_ela', '86_ela', '87_ela', '88_ela', '89_ela', '90_ela', '91_ela', '92_ela', '93_ela', '94_ela', '95_ela', '96_ela', '97_ela', '98_ela', '99_ela', '100_ela', '101_ela', '102_ela', '103_ela', '104_ela', '105_ela', '106_ela', '107_ela', '108_ela', '109_ela', '110_ela', '111_ela', '112_ela', '113_ela', '114_ela', '115_ela', '116_ela', '117_ela', '118_ela', '119_ela', '120_ela', '121_ela', '122_ela', '123_ela', '124_ela', '125_ela', '126_ela', '127_ela', '128_ela', '129_ela', '130_ela', '131_ela', '132_ela', '133_ela', '134_ela', '135_ela', '136_ela', '137_ela', '138_ela', '139_ela', '140_ela', '141_ela', '142_ela', '143_ela', '144_ela', '145_ela', '146_ela', '147_ela', '148_ela', '149_ela', '150_ela', '151_ela', '152_ela', '153_ela', '154_ela', '155_ela', '156_ela', '157_ela', '158_ela', '159_ela', '160_ela', '161_ela', '162_ela', '163_ela', '164_ela', '165_ela', '166_ela', '167_ela', '168_ela', '169_ela', '170_ela', '171_ela', '172_ela', '173_ela', '174_ela', '175_ela', '176_ela', '177_ela', '178_ela', '179_ela', '180_ela', '181_ela', '182_ela', '183_ela', '184_ela', '185_ela', '186_ela', '187_ela', '188_ela', '189_ela', '190_ela', '191_ela', '192_ela', '193_ela', '194_ela', '195_ela', '196_ela', '197_ela', '198_ela', '199_ela', '200_ela', '201_ela', '202_ela', '203_ela', '204_ela', '205_ela', '206_ela', '207_ela', '208_ela', '209_ela', '210_ela', '211_ela', '212_ela', '213_ela', '214_ela', '215_ela', '216_ela', '217_ela', '218_ela', '219_ela', '220_ela', '221_ela', '222_ela', '223_ela', '224_ela', '225_ela', '226_ela', '227_ela', '228_ela', '229_ela', '230_ela', '231_ela', '232_ela', '233_ela', '234_ela', '235_ela', '236_ela', '237_ela', '238_ela', '239_ela', '240_ela', '241_ela', '242_ela', '243_ela', '244_ela', '245_ela', '246_ela', '247_ela', '248_ela', '249_ela', '250_ela', '251_ela', '252_ela', '253_ela', '254_ela', '255_ela', '256_ela', '257_ela', '258_ela', '259_ela', '260_ela', '261_ela', '262_ela', '263_ela', '264_ela', '265_ela', '266_ela', '267_ela', '268_ela', '269_ela', '270_ela', '271_ela', '272_ela', '273_ela', '274_ela', '275_ela', '276_ela', '277_ela', '278_ela', '279_ela', '280_ela', '281_ela', '282_ela', '283_ela', '284_ela', '285_ela', '286_ela', '287_ela', '288_ela', '289_ela', '290_ela', '291_ela', '292_ela', '293_ela', '294_ela', '295_ela', '296_ela', '297_ela', '298_ela', '299_ela', '300_ela', '301_ela', '302_ela', '303_ela', '304_ela', '305_ela', '306_ela', '307_ela', '308_ela', '309_ela', '310_ela', '311_ela', '312_ela', '313_ela', '314_ela', '315_ela', '316_ela', '317_ela', '318_ela', '319_ela', '320_ela', '321_ela', '322_ela', '323_ela', '324_ela', '325_ela', '326_ela', '327_ela', '328_ela', '329_ela', '330_ela', '331_ela', '332_ela', '333_ela', '334_ela', '335_ela', '336_ela', '337_ela', '338_ela', '339_ela', '340_ela', '341_ela', '342_ela', '343_ela', '344_ela', '345_ela', '346_ela', '347_ela', '348_ela', '349_ela', '350_ela', '351_ela', '352_ela', '353_ela', '354_ela', '355_ela', '356_ela', '357_ela', '358_ela', '359_ela', '360_ela', '361_ela', '362_ela', '363_ela', '364_ela', '365_ela', '366_ela', '367_ela', '368_ela', '369_ela', '370_ela', '371_ela', '372_ela', '373_ela', '374_ela', '375_ela', '376_ela', '377_ela', '378_ela', '379_ela', '380_ela', '381_ela', '382_ela', '383_ela', '384_ela', '385_ela', '386_ela', '387_ela', '388_ela', '389_ela', '390_ela', '391_ela', '392_ela', '393_ela', '394_ela', '395_ela', '396_ela', '397_ela', '398_ela', '399_ela', '400_ela', '401_ela', '402_ela', '403_ela', '404_ela', '405_ela', '406_ela', '407_ela', '408_ela', '409_ela', '410_ela', '411_ela', '412_ela', '413_ela', '414_ela', '415_ela', '416_ela', '417_ela', '418_ela', '419_ela', '420_ela', '421_ela', '422_ela', '423_ela', '424_ela', '425_ela', '426_ela', '427_ela', '428_ela', '429_ela', '430_ela', '431_ela', '432_ela', '433_ela', '434_ela', '435_ela', '436_ela', '437_ela', '438_ela', '439_ela', '440_ela', '441_ela', '442_ela', '443_ela', '444_ela', '445_ela', '446_ela', '447_ela', '448_ela', '449_ela', '450_ela', '451_ela', '452_ela', '453_ela', '454_ela', '455_ela', '456_ela', '457_ela', '458_ela', '459_ela', '460_ela', '461_ela', '462_ela', '463_ela', '464_ela', '465_ela', '466_ela', '467_ela', '468_ela', '469_ela', '470_ela', '471_ela', '472_ela', '473_ela', '474_ela', '475_ela', '476_ela', '477_ela', '478_ela', '479_ela', '480_ela', '481_ela', '482_ela', '483_ela', '484_ela', '485_ela', '486_ela', '487_ela', '488_ela', '489_ela', '490_ela', '491_ela', '492_ela', '493_ela', '494_ela', '495_ela', '496_ela', '497_ela', '498_ela', '499_ela', '500_ela', '501_ela', '502_ela', '503_ela', '504_ela', '505_ela', '506_ela', '507_ela', '508_ela', '509_ela', '510_ela', '511_ela', 'imageid_x', 'orginal_y', 'imageid1', '0_org', '1_org', '2_org', '3_org', '4_org', '5_org', '6_org', '7_org', '8_org', '9_org', '10_org', '11_org', '12_org', '13_org', '14_org', '15_org', '16_org', '17_org', '18_org', '19_org', '20_org', '21_org', '22_org', '23_org', '24_org', '25_org', '26_org', '27_org', '28_org', '29_org', '30_org', '31_org', '32_org', '33_org', '34_org', '35_org', '36_org', '37_org', '38_org', '39_org', '40_org', '41_org', '42_org', '43_org', '44_org', '45_org', '46_org', '47_org', '48_org', '49_org', '50_org', '51_org', '52_org', '53_org', '54_org', '55_org', '56_org', '57_org', '58_org', '59_org', '60_org', '61_org', '62_org', '63_org', '64_org', '65_org', '66_org', '67_org', '68_org', '69_org', '70_org', '71_org', '72_org', '73_org', '74_org', '75_org', '76_org', '77_org', '78_org', '79_org', '80_org', '81_org', '82_org', '83_org', '84_org', '85_org', '86_org', '87_org', '88_org', '89_org', '90_org', '91_org', '92_org', '93_org', '94_org', '95_org', '96_org', '97_org', '98_org', '99_org', '100_org', '101_org', '102_org', '103_org', '104_org', '105_org', '106_org', '107_org', '108_org', '109_org', '110_org', '111_org', '112_org', '113_org', '114_org', '115_org', '116_org', '117_org', '118_org', '119_org', '120_org', '121_org', '122_org', '123_org', '124_org', '125_org', '126_org', '127_org', '128_org', '129_org', '130_org', '131_org', '132_org', '133_org', '134_org', '135_org', '136_org', '137_org', '138_org', '139_org', '140_org', '141_org', '142_org', '143_org', '144_org', '145_org', '146_org', '147_org', '148_org', '149_org', '150_org', '151_org', '152_org', '153_org', '154_org', '155_org', '156_org', '157_org', '158_org', '159_org', '160_org', '161_org', '162_org', '163_org', '164_org', '165_org', '166_org', '167_org', '168_org', '169_org', '170_org', '171_org', '172_org', '173_org', '174_org', '175_org', '176_org', '177_org', '178_org', '179_org', '180_org', '181_org', '182_org', '183_org', '184_org', '185_org', '186_org', '187_org', '188_org', '189_org', '190_org', '191_org', '192_org', '193_org', '194_org', '195_org', '196_org', '197_org', '198_org', '199_org', '200_org', '201_org', '202_org', '203_org', '204_org', '205_org', '206_org', '207_org', '208_org', '209_org', '210_org', '211_org', '212_org', '213_org', '214_org', '215_org', '216_org', '217_org', '218_org', '219_org', '220_org', '221_org', '222_org', '223_org', '224_org', '225_org', '226_org', '227_org', '228_org', '229_org', '230_org', '231_org', '232_org', '233_org', '234_org', '235_org', '236_org', '237_org', '238_org', '239_org', '240_org', '241_org', '242_org', '243_org', '244_org', '245_org', '246_org', '247_org', '248_org', '249_org', '250_org', '251_org', '252_org', '253_org', '254_org', '255_org', '256_org', '257_org', '258_org', '259_org', '260_org', '261_org', '262_org', '263_org', '264_org', '265_org', '266_org', '267_org', '268_org', '269_org', '270_org', '271_org', '272_org', '273_org', '274_org', '275_org', '276_org', '277_org', '278_org', '279_org', '280_org', '281_org', '282_org', '283_org', '284_org', '285_org', '286_org', '287_org', '288_org', '289_org', '290_org', '291_org', '292_org', '293_org', '294_org', '295_org', '296_org', '297_org', '298_org', '299_org', '300_org', '301_org', '302_org', '303_org', '304_org', '305_org', '306_org', '307_org', '308_org', '309_org', '310_org', '311_org', '312_org', '313_org', '314_org', '315_org', '316_org', '317_org', '318_org', '319_org', '320_org', '321_org', '322_org', '323_org', '324_org', '325_org', '326_org', '327_org', '328_org', '329_org', '330_org', '331_org', '332_org', '333_org', '334_org', '335_org', '336_org', '337_org', '338_org', '339_org', '340_org', '341_org', '342_org', '343_org', '344_org', '345_org', '346_org', '347_org', '348_org', '349_org', '350_org', '351_org', '352_org', '353_org', '354_org', '355_org', '356_org', '357_org', '358_org', '359_org', '360_org', '361_org', '362_org', '363_org', '364_org', '365_org', '366_org', '367_org', '368_org', '369_org', '370_org', '371_org', '372_org', '373_org', '374_org', '375_org', '376_org', '377_org', '378_org', '379_org', '380_org', '381_org', '382_org', '383_org', '384_org', '385_org', '386_org', '387_org', '388_org', '389_org', '390_org', '391_org', '392_org', '393_org', '394_org', '395_org', '396_org', '397_org', '398_org', '399_org', '400_org', '401_org', '402_org', '403_org', '404_org', '405_org', '406_org', '407_org', '408_org', '409_org', '410_org', '411_org', '412_org', '413_org', '414_org', '415_org', '416_org', '417_org', '418_org', '419_org', '420_org', '421_org', '422_org', '423_org', '424_org', '425_org', '426_org', '427_org', '428_org', '429_org', '430_org', '431_org', '432_org', '433_org', '434_org', '435_org', '436_org', '437_org', '438_org', '439_org', '440_org', '441_org', '442_org', '443_org', '444_org', '445_org', '446_org', '447_org', '448_org', '449_org', '450_org', '451_org', '452_org', '453_org', '454_org', '455_org', '456_org', '457_org', '458_org', '459_org', '460_org', '461_org', '462_org', '463_org', '464_org', '465_org', '466_org', '467_org', '468_org', '469_org', '470_org', '471_org', '472_org', '473_org', '474_org', '475_org', '476_org', '477_org', '478_org', '479_org', '480_org', '481_org', '482_org', '483_org', '484_org', '485_org', '486_org', '487_org', '488_org', '489_org', '490_org', '491_org', '492_org', '493_org', '494_org', '495_org', '496_org', '497_org', '498_org', '499_org', '500_org', '501_org', '502_org', '503_org', '504_org', '505_org', '506_org', '507_org', '508_org', '509_org', '510_org', '511_org', 'imageid_y']\n"
     ]
    }
   ],
   "source": [
    "print(list(final_fc.columns))"
   ]
  },
  {
   "cell_type": "code",
   "execution_count": 18,
   "metadata": {},
   "outputs": [],
   "source": [
    "final_fc.drop(['imageid_x', 'imageid_y'],axis=1,inplace=True)"
   ]
  },
  {
   "cell_type": "code",
   "execution_count": 21,
   "metadata": {},
   "outputs": [
    {
     "data": {
      "text/plain": [
       "(32260, 1026)"
      ]
     },
     "execution_count": 21,
     "metadata": {},
     "output_type": "execute_result"
    }
   ],
   "source": [
    "final_fc.shape"
   ]
  },
  {
   "cell_type": "code",
   "execution_count": 22,
   "metadata": {},
   "outputs": [],
   "source": [
    "final_fc.to_csv('/home/ubuntu/fakers/model_output_ela/merged_FC_512_unfrz.csv',index=False)"
   ]
  },
  {
   "cell_type": "code",
   "execution_count": null,
   "metadata": {},
   "outputs": [],
   "source": []
  }
 ],
 "metadata": {
  "kernelspec": {
   "display_name": "Python 3",
   "language": "python",
   "name": "python3"
  },
  "language_info": {
   "codemirror_mode": {
    "name": "ipython",
    "version": 3
   },
   "file_extension": ".py",
   "mimetype": "text/x-python",
   "name": "python",
   "nbconvert_exporter": "python",
   "pygments_lexer": "ipython3",
   "version": "3.7.1"
  }
 },
 "nbformat": 4,
 "nbformat_minor": 2
}
