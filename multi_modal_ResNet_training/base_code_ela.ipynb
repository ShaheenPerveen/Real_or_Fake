{
 "cells": [
  {
   "cell_type": "code",
   "execution_count": 1,
   "metadata": {},
   "outputs": [
    {
     "data": {
      "text/plain": [
       "0"
      ]
     },
     "execution_count": 1,
     "metadata": {},
     "output_type": "execute_result"
    }
   ],
   "source": [
    "%reload_ext autoreload\n",
    "%autoreload 2\n",
    "%matplotlib inline\n",
    "\n",
    "output_path = '/home/ubuntu/fakers/model_output_ela/resnext101_64/'\n",
    "\n",
    "import os\n",
    "os.chdir('/home/ubuntu/fastai/old')\n",
    "# This file contains all the main external libs we'll use\n",
    "from fastai.imports import *\n",
    "\n",
    "from fastai.transforms import *\n",
    "from fastai.conv_learner import *\n",
    "from fastai.model import *\n",
    "from fastai.dataset import *\n",
    "from fastai.sgdr import *\n",
    "from fastai.plots import *\n",
    "from pathlib import *\n",
    "import pandas as pd\n",
    "import numpy as np\n",
    "\n",
    "#checking wheteher cuda and cudnn are available. Cuda is necessary & Cudnn is optional, it makes computation faster\n",
    "torch.cuda.is_available()\n",
    "\n",
    "torch.backends.cudnn.enabled\n",
    "\n",
    "#using  device 0-gpu\n",
    "torch.cuda.set_device(0)\n",
    "torch.cuda.current_device()\n",
    "\n",
    "\n"
   ]
  },
  {
   "cell_type": "code",
   "execution_count": 3,
   "metadata": {},
   "outputs": [
    {
     "data": {
      "text/html": [
       "<div>\n",
       "<style scoped>\n",
       "    .dataframe tbody tr th:only-of-type {\n",
       "        vertical-align: middle;\n",
       "    }\n",
       "\n",
       "    .dataframe tbody tr th {\n",
       "        vertical-align: top;\n",
       "    }\n",
       "\n",
       "    .dataframe thead th {\n",
       "        text-align: right;\n",
       "    }\n",
       "</style>\n",
       "<table border=\"1\" class=\"dataframe\">\n",
       "  <thead>\n",
       "    <tr style=\"text-align: right;\">\n",
       "      <th></th>\n",
       "      <th>image_id</th>\n",
       "      <th>class</th>\n",
       "    </tr>\n",
       "  </thead>\n",
       "  <tbody>\n",
       "    <tr>\n",
       "      <th>0</th>\n",
       "      <td>/home/FRACTAL/shaheen.perveen/stage3/fakers/st...</td>\n",
       "      <td>real</td>\n",
       "    </tr>\n",
       "    <tr>\n",
       "      <th>1</th>\n",
       "      <td>/home/FRACTAL/shaheen.perveen/stage3/fakers/st...</td>\n",
       "      <td>real</td>\n",
       "    </tr>\n",
       "    <tr>\n",
       "      <th>2</th>\n",
       "      <td>/home/FRACTAL/shaheen.perveen/stage3/fakers/st...</td>\n",
       "      <td>real</td>\n",
       "    </tr>\n",
       "    <tr>\n",
       "      <th>3</th>\n",
       "      <td>/home/FRACTAL/shaheen.perveen/stage3/fakers/st...</td>\n",
       "      <td>real</td>\n",
       "    </tr>\n",
       "    <tr>\n",
       "      <th>4</th>\n",
       "      <td>/home/FRACTAL/shaheen.perveen/stage3/fakers/st...</td>\n",
       "      <td>real</td>\n",
       "    </tr>\n",
       "  </tbody>\n",
       "</table>\n",
       "</div>"
      ],
      "text/plain": [
       "                                            image_id class\n",
       "0  /home/FRACTAL/shaheen.perveen/stage3/fakers/st...  real\n",
       "1  /home/FRACTAL/shaheen.perveen/stage3/fakers/st...  real\n",
       "2  /home/FRACTAL/shaheen.perveen/stage3/fakers/st...  real\n",
       "3  /home/FRACTAL/shaheen.perveen/stage3/fakers/st...  real\n",
       "4  /home/FRACTAL/shaheen.perveen/stage3/fakers/st...  real"
      ]
     },
     "execution_count": 3,
     "metadata": {},
     "output_type": "execute_result"
    }
   ],
   "source": [
    "input_path = '/home/ubuntu/fakers/stage-3/stage3_image_data/train_ela/'\n",
    "labels_model = pd.read_csv(input_path+'train_label.csv')\n",
    "\n",
    "labels_model.head()"
   ]
  },
  {
   "cell_type": "code",
   "execution_count": 20,
   "metadata": {},
   "outputs": [
    {
     "data": {
      "text/plain": [
       "'/home/FRACTAL/shaheen.perveen/stage3/fakers/stage-3/stage3_image_data/train_ela/real/new_real20190208090259_b94639e64f3efbfb92af036355aed6fc.jpg'"
      ]
     },
     "execution_count": 20,
     "metadata": {},
     "output_type": "execute_result"
    }
   ],
   "source": [
    "labels_model['image_id2'][0]"
   ]
  },
  {
   "cell_type": "code",
   "execution_count": 9,
   "metadata": {},
   "outputs": [],
   "source": [
    "# label_image_real = labels_model[labels_model['class']=='real']['image_id']\n",
    "# label_image_real = [x.split(\"/\")[-1].split(\".\")[0] for x in label_image_real]\n",
    "# # print(label_image_real[:5])\n",
    "# # print(len(label_image_real))\n",
    "# # label_image_id = [in]\n",
    "# label_image_fake = labels_model[labels_model['class']=='fake']['image_id']\n",
    "# label_image_fake = [x.split(\"/\")[-1].split(\".\")[0] for x in label_image_fake]"
   ]
  },
  {
   "cell_type": "code",
   "execution_count": 12,
   "metadata": {},
   "outputs": [],
   "source": [
    "labels_model['image_id1'] = labels_model['image_id']"
   ]
  },
  {
   "cell_type": "code",
   "execution_count": 13,
   "metadata": {},
   "outputs": [],
   "source": [
    "labels_model['image_id1'] = labels_model['image_id1'].apply(lambda x: x.replace(\"/train/real/\", \"/train_ela/real/\"))"
   ]
  },
  {
   "cell_type": "code",
   "execution_count": 17,
   "metadata": {},
   "outputs": [],
   "source": [
    "labels_model['image_id2'] = labels_model['image_id1'].apply(lambda x: x.replace(\"/train/fake/\", \"/train_ela/fake_all/\"))"
   ]
  },
  {
   "cell_type": "code",
   "execution_count": 21,
   "metadata": {},
   "outputs": [],
   "source": [
    "labels_model['image_id_final'] = labels_model['image_id2'].apply(lambda x: x.replace(\"/home/FRACTAL/shaheen.perveen/stage3/fakers/stage-3/stage3_image_data/\", \"/home/ubuntu/fakers/stage-3/stage3_image_data/\"))"
   ]
  },
  {
   "cell_type": "code",
   "execution_count": 22,
   "metadata": {},
   "outputs": [
    {
     "data": {
      "text/html": [
       "<div>\n",
       "<style scoped>\n",
       "    .dataframe tbody tr th:only-of-type {\n",
       "        vertical-align: middle;\n",
       "    }\n",
       "\n",
       "    .dataframe tbody tr th {\n",
       "        vertical-align: top;\n",
       "    }\n",
       "\n",
       "    .dataframe thead th {\n",
       "        text-align: right;\n",
       "    }\n",
       "</style>\n",
       "<table border=\"1\" class=\"dataframe\">\n",
       "  <thead>\n",
       "    <tr style=\"text-align: right;\">\n",
       "      <th></th>\n",
       "      <th>image_id</th>\n",
       "      <th>class</th>\n",
       "      <th>image_id1</th>\n",
       "      <th>image_id2</th>\n",
       "      <th>image_id_final</th>\n",
       "    </tr>\n",
       "  </thead>\n",
       "  <tbody>\n",
       "    <tr>\n",
       "      <th>0</th>\n",
       "      <td>/home/FRACTAL/shaheen.perveen/stage3/fakers/st...</td>\n",
       "      <td>real</td>\n",
       "      <td>/home/FRACTAL/shaheen.perveen/stage3/fakers/st...</td>\n",
       "      <td>/home/FRACTAL/shaheen.perveen/stage3/fakers/st...</td>\n",
       "      <td>/home/ubuntu/fakers/stage-3/stage3_image_data/...</td>\n",
       "    </tr>\n",
       "    <tr>\n",
       "      <th>1</th>\n",
       "      <td>/home/FRACTAL/shaheen.perveen/stage3/fakers/st...</td>\n",
       "      <td>real</td>\n",
       "      <td>/home/FRACTAL/shaheen.perveen/stage3/fakers/st...</td>\n",
       "      <td>/home/FRACTAL/shaheen.perveen/stage3/fakers/st...</td>\n",
       "      <td>/home/ubuntu/fakers/stage-3/stage3_image_data/...</td>\n",
       "    </tr>\n",
       "    <tr>\n",
       "      <th>2</th>\n",
       "      <td>/home/FRACTAL/shaheen.perveen/stage3/fakers/st...</td>\n",
       "      <td>real</td>\n",
       "      <td>/home/FRACTAL/shaheen.perveen/stage3/fakers/st...</td>\n",
       "      <td>/home/FRACTAL/shaheen.perveen/stage3/fakers/st...</td>\n",
       "      <td>/home/ubuntu/fakers/stage-3/stage3_image_data/...</td>\n",
       "    </tr>\n",
       "    <tr>\n",
       "      <th>3</th>\n",
       "      <td>/home/FRACTAL/shaheen.perveen/stage3/fakers/st...</td>\n",
       "      <td>real</td>\n",
       "      <td>/home/FRACTAL/shaheen.perveen/stage3/fakers/st...</td>\n",
       "      <td>/home/FRACTAL/shaheen.perveen/stage3/fakers/st...</td>\n",
       "      <td>/home/ubuntu/fakers/stage-3/stage3_image_data/...</td>\n",
       "    </tr>\n",
       "    <tr>\n",
       "      <th>4</th>\n",
       "      <td>/home/FRACTAL/shaheen.perveen/stage3/fakers/st...</td>\n",
       "      <td>real</td>\n",
       "      <td>/home/FRACTAL/shaheen.perveen/stage3/fakers/st...</td>\n",
       "      <td>/home/FRACTAL/shaheen.perveen/stage3/fakers/st...</td>\n",
       "      <td>/home/ubuntu/fakers/stage-3/stage3_image_data/...</td>\n",
       "    </tr>\n",
       "  </tbody>\n",
       "</table>\n",
       "</div>"
      ],
      "text/plain": [
       "                                            image_id class  \\\n",
       "0  /home/FRACTAL/shaheen.perveen/stage3/fakers/st...  real   \n",
       "1  /home/FRACTAL/shaheen.perveen/stage3/fakers/st...  real   \n",
       "2  /home/FRACTAL/shaheen.perveen/stage3/fakers/st...  real   \n",
       "3  /home/FRACTAL/shaheen.perveen/stage3/fakers/st...  real   \n",
       "4  /home/FRACTAL/shaheen.perveen/stage3/fakers/st...  real   \n",
       "\n",
       "                                           image_id1  \\\n",
       "0  /home/FRACTAL/shaheen.perveen/stage3/fakers/st...   \n",
       "1  /home/FRACTAL/shaheen.perveen/stage3/fakers/st...   \n",
       "2  /home/FRACTAL/shaheen.perveen/stage3/fakers/st...   \n",
       "3  /home/FRACTAL/shaheen.perveen/stage3/fakers/st...   \n",
       "4  /home/FRACTAL/shaheen.perveen/stage3/fakers/st...   \n",
       "\n",
       "                                           image_id2  \\\n",
       "0  /home/FRACTAL/shaheen.perveen/stage3/fakers/st...   \n",
       "1  /home/FRACTAL/shaheen.perveen/stage3/fakers/st...   \n",
       "2  /home/FRACTAL/shaheen.perveen/stage3/fakers/st...   \n",
       "3  /home/FRACTAL/shaheen.perveen/stage3/fakers/st...   \n",
       "4  /home/FRACTAL/shaheen.perveen/stage3/fakers/st...   \n",
       "\n",
       "                                      image_id_final  \n",
       "0  /home/ubuntu/fakers/stage-3/stage3_image_data/...  \n",
       "1  /home/ubuntu/fakers/stage-3/stage3_image_data/...  \n",
       "2  /home/ubuntu/fakers/stage-3/stage3_image_data/...  \n",
       "3  /home/ubuntu/fakers/stage-3/stage3_image_data/...  \n",
       "4  /home/ubuntu/fakers/stage-3/stage3_image_data/...  "
      ]
     },
     "execution_count": 22,
     "metadata": {},
     "output_type": "execute_result"
    }
   ],
   "source": [
    "labels_model.head()"
   ]
  },
  {
   "cell_type": "code",
   "execution_count": 23,
   "metadata": {},
   "outputs": [
    {
     "data": {
      "text/plain": [
       "(32260, 5)"
      ]
     },
     "execution_count": 23,
     "metadata": {},
     "output_type": "execute_result"
    }
   ],
   "source": [
    "labels_model.shape"
   ]
  },
  {
   "cell_type": "code",
   "execution_count": 25,
   "metadata": {},
   "outputs": [],
   "source": [
    "labels_model1 = labels_model.copy()"
   ]
  },
  {
   "cell_type": "code",
   "execution_count": 26,
   "metadata": {},
   "outputs": [],
   "source": [
    "labels_model = labels_model[['image_id_final', 'class']]"
   ]
  },
  {
   "cell_type": "code",
   "execution_count": 45,
   "metadata": {},
   "outputs": [
    {
     "data": {
      "text/plain": [
       "'/home/ubuntu/fakers/stage-3/stage3_image_data/train_ela/real/new_real20190208090259_b94639e64f3efbfb92af036355aed6fc_ela.jpg'"
      ]
     },
     "execution_count": 45,
     "metadata": {},
     "output_type": "execute_result"
    }
   ],
   "source": [
    "labels_model['image_id_final'][0]"
   ]
  },
  {
   "cell_type": "code",
   "execution_count": 48,
   "metadata": {},
   "outputs": [
    {
     "data": {
      "text/html": [
       "<div>\n",
       "<style scoped>\n",
       "    .dataframe tbody tr th:only-of-type {\n",
       "        vertical-align: middle;\n",
       "    }\n",
       "\n",
       "    .dataframe tbody tr th {\n",
       "        vertical-align: top;\n",
       "    }\n",
       "\n",
       "    .dataframe thead th {\n",
       "        text-align: right;\n",
       "    }\n",
       "</style>\n",
       "<table border=\"1\" class=\"dataframe\">\n",
       "  <thead>\n",
       "    <tr style=\"text-align: right;\">\n",
       "      <th></th>\n",
       "      <th>image_id_final</th>\n",
       "      <th>class</th>\n",
       "    </tr>\n",
       "  </thead>\n",
       "  <tbody>\n",
       "    <tr>\n",
       "      <th>0</th>\n",
       "      <td>/home/ubuntu/fakers/stage-3/stage3_image_data/...</td>\n",
       "      <td>real</td>\n",
       "    </tr>\n",
       "    <tr>\n",
       "      <th>1</th>\n",
       "      <td>/home/ubuntu/fakers/stage-3/stage3_image_data/...</td>\n",
       "      <td>real</td>\n",
       "    </tr>\n",
       "    <tr>\n",
       "      <th>2</th>\n",
       "      <td>/home/ubuntu/fakers/stage-3/stage3_image_data/...</td>\n",
       "      <td>real</td>\n",
       "    </tr>\n",
       "    <tr>\n",
       "      <th>3</th>\n",
       "      <td>/home/ubuntu/fakers/stage-3/stage3_image_data/...</td>\n",
       "      <td>real</td>\n",
       "    </tr>\n",
       "    <tr>\n",
       "      <th>4</th>\n",
       "      <td>/home/ubuntu/fakers/stage-3/stage3_image_data/...</td>\n",
       "      <td>real</td>\n",
       "    </tr>\n",
       "  </tbody>\n",
       "</table>\n",
       "</div>"
      ],
      "text/plain": [
       "                                      image_id_final class\n",
       "0  /home/ubuntu/fakers/stage-3/stage3_image_data/...  real\n",
       "1  /home/ubuntu/fakers/stage-3/stage3_image_data/...  real\n",
       "2  /home/ubuntu/fakers/stage-3/stage3_image_data/...  real\n",
       "3  /home/ubuntu/fakers/stage-3/stage3_image_data/...  real\n",
       "4  /home/ubuntu/fakers/stage-3/stage3_image_data/...  real"
      ]
     },
     "execution_count": 48,
     "metadata": {},
     "output_type": "execute_result"
    }
   ],
   "source": [
    "labels_model.head()"
   ]
  },
  {
   "cell_type": "code",
   "execution_count": 43,
   "metadata": {},
   "outputs": [],
   "source": [
    "labels_model['image_id_final'] = labels_model['image_id_final'].apply(lambda x: x.replace('.jpg', '_ela.jpg'))"
   ]
  },
  {
   "cell_type": "code",
   "execution_count": 46,
   "metadata": {},
   "outputs": [],
   "source": [
    "labels_model.to_csv(input_path+\"label_csv.csv\",index=False)"
   ]
  },
  {
   "cell_type": "code",
   "execution_count": 47,
   "metadata": {},
   "outputs": [
    {
     "name": "stdout",
     "output_type": "stream",
     "text": [
      "  class\n",
      "0  real\n",
      "   class\n",
      "0      1\n",
      "              class\n",
      "count  32260.000000\n",
      "mean       0.259547\n",
      "std        0.438393\n",
      "min        0.000000\n",
      "25%        0.000000\n",
      "50%        0.000000\n",
      "75%        1.000000\n",
      "max        1.000000\n"
     ]
    },
    {
     "name": "stderr",
     "output_type": "stream",
     "text": [
      "/opt/anaconda3/envs/fastai/lib/python3.6/site-packages/ipykernel_launcher.py:4: SettingWithCopyWarning: \n",
      "A value is trying to be set on a copy of a slice from a DataFrame.\n",
      "Try using .loc[row_indexer,col_indexer] = value instead\n",
      "\n",
      "See the caveats in the documentation: http://pandas.pydata.org/pandas-docs/stable/indexing.html#indexing-view-versus-copy\n",
      "  after removing the cwd from sys.path.\n"
     ]
    }
   ],
   "source": [
    "labels = labels_model[['class']]\n",
    "print(labels.head(1))\n",
    "\n",
    "labels['class'] = np.where(labels['class'] == 'real',1,0)\n",
    "print(labels.head(1))\n",
    "\n",
    "print(labels.describe())"
   ]
  },
  {
   "cell_type": "code",
   "execution_count": 49,
   "metadata": {},
   "outputs": [],
   "source": [
    "\n",
    "def get_data(f_model,sz,bs,val_idxs,aug_tfms,root_path,train_folder,label_csv,test_folder,skip_header,augmentation_required):\n",
    "    if (augmentation_required):\n",
    "        tfms = tfms_from_model(f_model, sz,aug_tfms=aug_tfms,max_zoom=1.1)\n",
    "    else:\n",
    "        tfms =  tfms_from_model(f_model, sz)\n",
    "    \n",
    "    label_csv.to_csv(str(root_path)+'temp_label_file.csv',index=False)\n",
    "    \n",
    "    return ImageClassifierData.from_csv(root_path, train_folder,str(root_path)+'temp_label_file.csv',bs=bs,tfms=tfms,\n",
    "                     val_idxs=val_idxs,test_name=test_folder,skip_header=skip_header)\n",
    "\n",
    "def exp_name(output_path,freeze,model_name,lrn,sz):\n",
    "    return output_path+freeze+'_'+'_'+model_name+'_lr'+str(lrn)+'_sz'+str(sz)\n",
    "\n",
    "label_csv = pd.read_csv(input_path+\"label_csv.csv\")\n",
    "#a root path of the data (used for storing trained models, precomputed values, etc)\n",
    "root_path=('/home/ubuntu/fakers/temp_root/')\n",
    "#a name of the folder in which training images are contained.\n",
    "train_folder = ('')\n",
    "#a name of the folder which contains test images.\n",
    "test_folder= ('/home/ubuntu/fakers/stage-3/stage3_image_data/test/test')\n",
    "\n",
    "#for generating the validation indexes\n",
    "from sklearn.model_selection import StratifiedShuffleSplit\n",
    "sss = StratifiedShuffleSplit(n_splits=1, test_size=0.2, random_state=1729)\n",
    "labels_splits = labels.copy()\n",
    "X= labels['class'].astype(int)\n",
    "y=labels['class'].astype(int)\n",
    "\n",
    "for train_index, test_index in sss.split(X, y):\n",
    "    trn_indx = train_index\n",
    "    val_idxs = test_index\n",
    "\n",
    "f_model=resnext101_64\n",
    "sz=224\n",
    "aug_tfms=transforms_side_on\n",
    "max_zoom=1.1\n",
    "bs=4\n",
    "#use this if we dont need augmentation\n",
    "augmentation_required = True\n",
    "\n",
    "model_name=str(f_model).split(' ')[1]"
   ]
  },
  {
   "cell_type": "code",
   "execution_count": null,
   "metadata": {},
   "outputs": [],
   "source": [
    "not_read = []\n",
    "for fname in label_csv[\"image_id_final\"]:\n",
    "    try:\n",
    "        im = Image.open(fname)\n",
    "    except:\n",
    "        not_read.append(fname)\n",
    "#         continue"
   ]
  },
  {
   "cell_type": "code",
   "execution_count": null,
   "metadata": {},
   "outputs": [],
   "source": [
    "len(not_read)\n",
    "not_read"
   ]
  },
  {
   "cell_type": "code",
   "execution_count": null,
   "metadata": {},
   "outputs": [],
   "source": [
    "label_csv['image_id_final'] = label_csv['image_id_final'].apply(lambda x: x.replace(\"/home/ubuntu/fakers/stage-3/stage3_image_data/train_ela/fake_all/new_fake20190208093216_new_fake20190208091910_f5de5c6f3d7299f33ac2a855afe0bd3d_ela.jpg\", \"/home/ubuntu/fakers/stage-3/stage3_image_data/train_ela/fake_all/new_fake20190208094137_new_fake20190208091649_0e5a22a5367e4b7ea8c8ec3e06fb7010_ela.jpg\"))\n",
    "label_csv['image_id_final'] = label_csv['image_id_final'].apply(lambda x: x.replace(\"/home/ubuntu/fakers/stage-3/stage3_image_data/train_ela/fake_all/new_fake20190208093603_new_fake20190208091454_7271aec85d38ba512829278fa3d97453_ela.jpg\", \"/home/ubuntu/fakers/stage-3/stage3_image_data/train_ela/fake_all/new_fake20190208093924_new_fake20190208091345_f30028aadb49060106ccd7693853ea76_ela.jpg\"))"
   ]
  },
  {
   "cell_type": "code",
   "execution_count": 91,
   "metadata": {},
   "outputs": [],
   "source": [
    "label_csv.to_csv(input_path+\"label_csv.csv\", index=False)"
   ]
  },
  {
   "cell_type": "code",
   "execution_count": 64,
   "metadata": {},
   "outputs": [],
   "source": [
    "#making data object\n",
    "data = get_data(f_model,sz,bs,val_idxs,aug_tfms,root_path,train_folder,label_csv,test_folder,skip_header=True,augmentation_required=augmentation_required)"
   ]
  },
  {
   "cell_type": "code",
   "execution_count": 65,
   "metadata": {},
   "outputs": [],
   "source": [
    "learn = ConvLearner.pretrained(f_model, data,precompute=False)"
   ]
  },
  {
   "cell_type": "code",
   "execution_count": 66,
   "metadata": {},
   "outputs": [
    {
     "data": {
      "application/vnd.jupyter.widget-view+json": {
       "model_id": "752c96ba6daa4081a14b9e3c70247bd5",
       "version_major": 2,
       "version_minor": 0
      },
      "text/plain": [
       "HBox(children=(IntProgress(value=0, description='Epoch', max=1, style=ProgressStyle(description_width='initial…"
      ]
     },
     "metadata": {},
     "output_type": "display_data"
    },
    {
     "name": "stdout",
     "output_type": "stream",
     "text": [
      " 64%|██████▎   | 4102/6452 [11:37<06:10,  6.35it/s, loss=2.11]  "
     ]
    },
    {
     "data": {
      "image/png": "[encoded data removed]",
      "text/plain": [
       "<Figure size 432x288 with 1 Axes>"
      ]
     },
     "metadata": {
      "needs_background": "light"
     },
     "output_type": "display_data"
    }
   ],
   "source": [
    "lrf=learn.lr_find()\n",
    "\n",
    "learn.sched.plot()"
   ]
  },
  {
   "cell_type": "code",
   "execution_count": 69,
   "metadata": {},
   "outputs": [],
   "source": [
    "lrn=8e-5"
   ]
  },
  {
   "cell_type": "code",
   "execution_count": 70,
   "metadata": {},
   "outputs": [
    {
     "data": {
      "application/vnd.jupyter.widget-view+json": {
       "model_id": "8360b5dd4f5b4d958b337944d6b692d8",
       "version_major": 2,
       "version_minor": 0
      },
      "text/plain": [
       "HBox(children=(IntProgress(value=0, description='Epoch', max=7, style=ProgressStyle(description_width='initial…"
      ]
     },
     "metadata": {},
     "output_type": "display_data"
    },
    {
     "name": "stdout",
     "output_type": "stream",
     "text": [
      "epoch      trn_loss   val_loss   accuracy                      \n",
      "    0      0.549002   0.505442   0.75713   \n",
      "    1      0.547897   0.483173   0.769064                      \n",
      "    2      0.498989   0.486485   0.765344                       \n",
      "    3      0.536464   0.476862   0.772784                      \n",
      "    4      0.531451   0.475833   0.766584                      \n",
      "    5      0.500679   0.472578   0.769839                      \n",
      "    6      0.52122    0.472363   0.770459                       \n"
     ]
    },
    {
     "data": {
      "application/vnd.jupyter.widget-view+json": {
       "model_id": "03384b5d09e142f39de08daf1ce58e56",
       "version_major": 2,
       "version_minor": 0
      },
      "text/plain": [
       "HBox(children=(IntProgress(value=0, description='Epoch', max=3, style=ProgressStyle(description_width='initial…"
      ]
     },
     "metadata": {},
     "output_type": "display_data"
    },
    {
     "name": "stdout",
     "output_type": "stream",
     "text": [
      "epoch      trn_loss   val_loss   accuracy                        \n",
      "    0      0.465633   0.434891   0.794482  \n",
      "    1      0.441529   0.420761   0.802852                        \n",
      "    2      0.439402   0.420152   0.807812                        \n"
     ]
    }
   ],
   "source": [
    "learn.fit(lrn, 3, cycle_len=1, cycle_mult=2)\n",
    "\n",
    "\n",
    "learn.save(exp_name(output_path,'frz',model_name,lrn,sz))\n",
    "\n",
    "#loading the previous saved model and unfreezing the network for more training\n",
    "learn.load(exp_name(output_path,'frz',model_name,lrn,sz))\n",
    "learn.unfreeze()\n",
    "learn.bn_freeze(True)\n",
    "\n",
    "lr=np.array([lrn/100,lrn/10,lrn])\n",
    "\n",
    "learn.fit(lr, 2, cycle_len=1,cycle_mult=2)\n",
    "learn.save(exp_name(output_path,'unfrz',model_name,lrn,sz))\n"
   ]
  },
  {
   "cell_type": "code",
   "execution_count": 95,
   "metadata": {},
   "outputs": [],
   "source": [
    "from sklearn.metrics import f1_score\n",
    "import warnings\n",
    "def f1(log_preds, targs, start=0.1, end=0.8, step=0.1):\n",
    "    with warnings.catch_warnings():\n",
    "        warnings.simplefilter(\"ignore\")\n",
    "        pos_predss = torch.exp(log_preds) \n",
    "        return max([f1_score(targs, torch.max(pos_predss > th, dim=1)[1], average='weighted')\n",
    "                    for th in np.arange(start,end,step)])"
   ]
  },
  {
   "cell_type": "code",
   "execution_count": null,
   "metadata": {},
   "outputs": [
    {
     "data": {
      "application/vnd.jupyter.widget-view+json": {
       "model_id": "ebe6789c69ee430286c782df1b84b18a",
       "version_major": 2,
       "version_minor": 0
      },
      "text/plain": [
       "HBox(children=(IntProgress(value=0, description='Epoch', max=7, style=ProgressStyle(description_width='initial…"
      ]
     },
     "metadata": {},
     "output_type": "display_data"
    },
    {
     "name": "stdout",
     "output_type": "stream",
     "text": [
      " 76%|███████▋  | 4922/6452 [33:55<09:51,  2.59it/s, loss=0.408]  "
     ]
    },
    {
     "name": "stderr",
     "output_type": "stream",
     "text": [
      "IOPub message rate exceeded.\n",
      "The notebook server will temporarily stop sending output\n",
      "to the client in order to avoid crashing it.\n",
      "To change this limit, set the config variable\n",
      "`--NotebookApp.iopub_msg_rate_limit`.\n",
      "\n",
      "Current values:\n",
      "NotebookApp.iopub_msg_rate_limit=1000.0 (msgs/sec)\n",
      "NotebookApp.rate_limit_window=3.0 (secs)\n",
      "\n"
     ]
    },
    {
     "name": "stdout",
     "output_type": "stream",
     "text": [
      "    1      0.392206   0.421841   0.805952   0.958398             \n",
      "    2      0.432714   0.422218   0.808741   0.96455              \n",
      "    3      0.435152   0.421885   0.804247   0.967803             \n",
      "    4      0.478953   0.420514   0.807037   0.969716             \n",
      "    5      0.515091   0.417612   0.808741   0.966339             \n",
      "    6      0.466888   0.417645   0.810446   0.966156             \n"
     ]
    },
    {
     "data": {
      "application/vnd.jupyter.widget-view+json": {
       "model_id": "39e484c8f1354bada97a500bd310d6c5",
       "version_major": 2,
       "version_minor": 0
      },
      "text/plain": [
       "HBox(children=(IntProgress(value=0, description='Epoch', max=3, style=ProgressStyle(description_width='initial…"
      ]
     },
     "metadata": {},
     "output_type": "display_data"
    },
    {
     "name": "stdout",
     "output_type": "stream",
     "text": [
      "    1      0.389248   0.407314   0.814941   0.960027               \n",
      " 89%|████████▉ | 5751/6452 [2:55:09<32:25,  2.78s/it, loss=0.432]  "
     ]
    }
   ],
   "source": [
    "#\n",
    "sz=224\n",
    "learn.load(exp_name(output_path,'unfrz',model_name,lrn,sz))\n",
    "learn.freeze()\n",
    "\n",
    "sz=400\n",
    "#making data object\n",
    "data = get_data(f_model,sz,bs,val_idxs,aug_tfms,root_path,train_folder,label_csv,test_folder,skip_header=True,augmentation_required=augmentation_required)\n",
    "learn.set_data(data)\n",
    "\n",
    "\n",
    "\n",
    "lrn=8e-5\n",
    "\n",
    "learn.fit(lrn, 3, cycle_len=1, cycle_mult=2, metrics=[accuracy, f1])\n",
    "\n",
    "learn.save(exp_name(output_path,'frz',model_name,lrn,sz))\n",
    "\n",
    "#loading the previous saved model and unfreezing the network for more training\n",
    "learn.load(exp_name(output_path,'frz',model_name,lrn,sz))\n",
    "learn.unfreeze()\n",
    "learn.bn_freeze(True)\n",
    "\n",
    "lr=np.array([lrn/100,lrn/10,lrn])\n",
    "\n",
    "learn.fit(lr, 2, cycle_len=1,cycle_mult=2, metrics=[accuracy, f1])\n",
    "learn.save(exp_name(output_path,'unfrz',model_name,lrn,sz))\n"
   ]
  },
  {
   "cell_type": "code",
   "execution_count": null,
   "metadata": {},
   "outputs": [],
   "source": [
    "#\n",
    "learn.load(exp_name(output_path,'unfrz',model_name,lrn,sz))\n",
    "learn.freeze()\n",
    "\n",
    "sz=512\n",
    "#making data object\n",
    "data = get_data(f_model,sz,bs,val_idxs,aug_tfms,root_path,train_folder,label_csv,test_folder,skip_header=True,augmentation_required=augmentation_required)\n",
    "learn.set_data(data)\n",
    "\n",
    "\n",
    "\n",
    "lrn=8e-5\n",
    "\n",
    "learn.fit(lrn, 3, cycle_len=1, cycle_mult=2)\n",
    "\n",
    "learn.save(exp_name(output_path,'frz',model_name,lrn,sz))\n",
    "\n",
    "#loading the previous saved model and unfreezing the network for more training\n",
    "learn.load(exp_name(output_path,'frz',model_name,lrn,sz))\n",
    "learn.unfreeze()\n",
    "learn.bn_freeze(True)\n",
    "\n",
    "lr=np.array([lrn/100,lrn/10,lrn])\n",
    "\n",
    "learn.fit(lr, 2, cycle_len=1,cycle_mult=2)\n",
    "learn.save(exp_name(output_path,'unfrz',model_name,lrn,sz))"
   ]
  },
  {
   "cell_type": "code",
   "execution_count": null,
   "metadata": {},
   "outputs": [],
   "source": []
  }
 ],
 "metadata": {
  "kernelspec": {
   "display_name": "Python 3",
   "language": "python",
   "name": "python3"
  },
  "language_info": {
   "codemirror_mode": {
    "name": "ipython",
    "version": 3
   },
   "file_extension": ".py",
   "mimetype": "text/x-python",
   "name": "python",
   "nbconvert_exporter": "python",
   "pygments_lexer": "ipython3",
   "version": "3.7.1"
  }
 },
 "nbformat": 4,
 "nbformat_minor": 2
}
