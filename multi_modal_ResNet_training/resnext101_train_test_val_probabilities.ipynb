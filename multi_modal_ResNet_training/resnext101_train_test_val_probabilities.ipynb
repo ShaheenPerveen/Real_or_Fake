{
 "cells": [
  {
   "cell_type": "code",
   "execution_count": 27,
   "metadata": {},
   "outputs": [
    {
     "name": "stderr",
     "output_type": "stream",
     "text": [
      "/home/FRACTAL/shaheen.perveen/anaconda3/envs/fastai/lib/python3.6/site-packages/ipykernel_launcher.py:40: SettingWithCopyWarning: \n",
      "A value is trying to be set on a copy of a slice from a DataFrame.\n",
      "Try using .loc[row_indexer,col_indexer] = value instead\n",
      "\n",
      "See the caveats in the documentation: http://pandas.pydata.org/pandas-docs/stable/indexing.html#indexing-view-versus-copy\n"
     ]
    }
   ],
   "source": [
    "%reload_ext autoreload\n",
    "%autoreload 2\n",
    "%matplotlib inline\n",
    "\n",
    "output_path = '/home/FRACTAL/shaheen.perveen/stage3/model_outputs/'\n",
    "#checking the data\n",
    "input_path = '/home/FRACTAL/shaheen.perveen/stage3/fakers/stage-3/stage3_image_data/train/'\n",
    "output_path_ensemble = '/home/FRACTAL/shaheen.perveen/stage3/model_outputs/probs_train_val_test/'\n",
    "\n",
    "import os\n",
    "os.chdir('/home/FRACTAL/shaheen.perveen/fastai/old')\n",
    "# This file contains all the main external libs we'll use\n",
    "from fastai.imports import *\n",
    "\n",
    "from fastai.transforms import *\n",
    "from fastai.conv_learner import *\n",
    "from fastai.model import *\n",
    "from fastai.dataset import *\n",
    "from fastai.sgdr import *\n",
    "from fastai.plots import *\n",
    "from pathlib import *\n",
    "import pandas as pd\n",
    "import numpy as np\n",
    "\n",
    "#checking wheteher cuda and cudnn are available. Cuda is necessary & Cudnn is optional, it makes computation faster\n",
    "torch.cuda.is_available()\n",
    "\n",
    "torch.backends.cudnn.enabled\n",
    "\n",
    "#using  device 0-gpu\n",
    "torch.cuda.set_device(0)\n",
    "torch.cuda.current_device()\n",
    "\n",
    "labels_model = pd.read_csv(input_path+\"train_label_original.csv\")\n",
    "# print(labels_model['image_id'][0])\n",
    "\n",
    "labels = labels_model[['class']]\n",
    "# print(labels.head(1))\n",
    "\n",
    "labels['class'] = np.where(labels['class'] == 'real',1,0)\n",
    "# print(labels.head(1))\n",
    "\n",
    "# print(labels.describe())\n",
    "\n",
    "\n",
    "def get_data(f_model,sz,bs,val_idxs,aug_tfms,root_path,train_folder,label_csv,test_folder,skip_header,augmentation_required):\n",
    "    if (augmentation_required):\n",
    "        tfms = tfms_from_model(f_model, sz,aug_tfms=aug_tfms,max_zoom=1.1)\n",
    "    else:\n",
    "        tfms =  tfms_from_model(f_model, sz)\n",
    "    \n",
    "    label_csv.to_csv(str(root_path)+'temp_label_file.csv',index=False)\n",
    "    \n",
    "    return ImageClassifierData.from_csv(root_path, train_folder,str(root_path)+'temp_label_file.csv',bs=bs,tfms=tfms,\n",
    "                     val_idxs=val_idxs,test_name=test_folder,skip_header=skip_header)\n",
    "\n",
    "def exp_name(output_path,freeze,model_name,lrn,sz):\n",
    "    return output_path+freeze+'_'+'_'+model_name+'_lr'+str(lrn)+'_sz'+str(sz)\n",
    "\n",
    "label_csv = labels_model.copy()\n",
    "#a root path of the data (used for storing trained models, precomputed values, etc)\n",
    "root_path=('/home/FRACTAL/shaheen.perveen/stage3/temp_model_parameters/')\n",
    "#a name of the folder in which training images are contained.\n",
    "train_folder = ('')\n",
    "#a name of the folder which contains test images.\n",
    "test_folder= ('/home/FRACTAL/shaheen.perveen/stage3/fakers/stage-3/stage3_image_data/test/test')\n",
    "\n",
    "#for generating the validation indexes\n",
    "from sklearn.model_selection import StratifiedShuffleSplit\n",
    "sss = StratifiedShuffleSplit(n_splits=1, test_size=0.2, random_state=1729)\n",
    "labels_splits = labels.copy()\n",
    "X= labels['class'].astype(int)\n",
    "y=labels['class'].astype(int)\n",
    "\n",
    "for train_index, test_index in sss.split(X, y):\n",
    "    trn_indx = train_index\n",
    "    val_idxs = test_index\n",
    "\n",
    "f_model=resnext101_64\n",
    "sz=512\n",
    "aug_tfms=transforms_side_on\n",
    "max_zoom=1.1\n",
    "bs=4\n",
    "#use this if we dont need augmentation\n",
    "augmentation_required = True\n",
    "\n",
    "model_name=str(f_model).split(' ')[1]\n",
    "\n",
    "\n",
    "#making data object\n",
    "data = get_data(f_model,sz,bs,val_idxs,aug_tfms,root_path,train_folder,label_csv,test_folder,skip_header=True,augmentation_required=augmentation_required)\n",
    "\n",
    "lrn=3e-4\n",
    "\n",
    "learn = ConvLearner.pretrained(f_model, data,precompute=False)"
   ]
  },
  {
   "cell_type": "code",
   "execution_count": 28,
   "metadata": {},
   "outputs": [
    {
     "data": {
      "text/plain": [
       "(32261, 2)"
      ]
     },
     "execution_count": 28,
     "metadata": {},
     "output_type": "execute_result"
    }
   ],
   "source": [
    "labels_model.shape"
   ]
  },
  {
   "cell_type": "code",
   "execution_count": 29,
   "metadata": {},
   "outputs": [
    {
     "data": {
      "text/plain": [
       "32260"
      ]
     },
     "execution_count": 29,
     "metadata": {},
     "output_type": "execute_result"
    }
   ],
   "source": [
    "labels_model['image_id'].nunique()"
   ]
  },
  {
   "cell_type": "code",
   "execution_count": 2,
   "metadata": {},
   "outputs": [],
   "source": [
    "learn.load('/home/FRACTAL/shaheen.perveen/stage3/model_outputs/'+'unfrz___resnext101_64_lr0.0003_sz512')"
   ]
  },
  {
   "cell_type": "code",
   "execution_count": 3,
   "metadata": {},
   "outputs": [
    {
     "name": "stdout",
     "output_type": "stream",
     "text": [
      "(32262, 2)\n"
     ]
    },
    {
     "name": "stderr",
     "output_type": "stream",
     "text": [
      "/home/FRACTAL/shaheen.perveen/anaconda3/envs/fastai/lib/python3.6/site-packages/ipykernel_launcher.py:39: SettingWithCopyWarning: \n",
      "A value is trying to be set on a copy of a slice from a DataFrame.\n",
      "Try using .loc[row_indexer,col_indexer] = value instead\n",
      "\n",
      "See the caveats in the documentation: http://pandas.pydata.org/pandas-docs/stable/indexing.html#indexing-view-versus-copy\n"
     ]
    }
   ],
   "source": [
    "%reload_ext autoreload\n",
    "%autoreload 2\n",
    "%matplotlib inline\n",
    "\n",
    "output_path = '/home/FRACTAL/shaheen.perveen/stage3/model_outputs/'\n",
    "#checking the data\n",
    "input_path = '/home/FRACTAL/shaheen.perveen/stage3/fakers/stage-3/stage3_image_data/train/'\n",
    "output_path_ensemble = '/home/FRACTAL/shaheen.perveen/stage3/model_outputs/probs_train_val_test/'\n",
    "\n",
    "import os\n",
    "os.chdir('/home/FRACTAL/shaheen.perveen/fastai/old')\n",
    "# This file contains all the main external libs we'll use\n",
    "from fastai.imports import *\n",
    "\n",
    "from fastai.transforms import *\n",
    "from fastai.conv_learner import *\n",
    "from fastai.model import *\n",
    "from fastai.dataset import *\n",
    "from fastai.sgdr import *\n",
    "from fastai.plots import *\n",
    "from pathlib import *\n",
    "import pandas as pd\n",
    "import numpy as np\n",
    "\n",
    "#checking wheteher cuda and cudnn are available. Cuda is necessary & Cudnn is optional, it makes computation faster\n",
    "torch.cuda.is_available()\n",
    "\n",
    "torch.backends.cudnn.enabled\n",
    "\n",
    "#using  device 0-gpu\n",
    "torch.cuda.set_device(0)\n",
    "torch.cuda.current_device()\n",
    "\n",
    "labels_model = pd.read_csv(input_path+\"train_label_original.csv\")\n",
    "\n",
    "labels = labels_model[['class']]\n",
    "# print(labels.head(1))\n",
    "\n",
    "labels['class'] = np.where(labels['class'] == 'real',1,0)\n",
    "# print(labels.head(1))\n",
    "\n",
    "# print(labels.describe())\n",
    "labels_model = pd.concat([labels_model, labels_model.iloc[-1:]],axis=0)\n",
    "print(labels_model.shape)\n",
    "labels_model = labels_model.reset_index(drop=True)\n",
    "\n",
    "def get_data(f_model,sz,bs,val_idxs,aug_tfms,root_path,train_folder,label_csv,test_folder,skip_header,augmentation_required):\n",
    "    if (augmentation_required):\n",
    "        tfms = tfms_from_model(f_model, sz,aug_tfms=aug_tfms,max_zoom=1.1)\n",
    "    else:\n",
    "        tfms =  tfms_from_model(f_model, sz)\n",
    "    \n",
    "    label_csv.to_csv(str(root_path)+'temp_label_file.csv',index=False)\n",
    "    \n",
    "    return ImageClassifierData.from_csv(root_path, train_folder,str(root_path)+'temp_label_file.csv',bs=bs,tfms=tfms,\n",
    "                     val_idxs=val_idxs,test_name=test_folder,skip_header=skip_header)\n",
    "\n",
    "def exp_name(output_path,freeze,model_name,lrn,sz):\n",
    "    return output_path+freeze+'_'+'_'+model_name+'_lr'+str(lrn)+'_sz'+str(sz)\n",
    "\n",
    "label_csv = labels_model.copy()\n",
    "#a root path of the data (used for storing trained models, precomputed values, etc)\n",
    "root_path=('/home/FRACTAL/shaheen.perveen/stage3/temp_model_parameters/')\n",
    "#a name of the folder in which training images are contained.\n",
    "train_folder = ('')\n",
    "#a name of the folder which contains test images.\n",
    "test_folder= ('/home/FRACTAL/shaheen.perveen/stage3/fakers/stage-3/stage3_image_data/test/test')\n",
    "\n",
    "# #for generating the validation indexes\n",
    "# from sklearn.model_selection import StratifiedShuffleSplit\n",
    "# sss = StratifiedShuffleSplit(n_splits=1, test_size=0.2, random_state=1729)\n",
    "# labels_splits = labels.copy()\n",
    "# X= labels['class'].astype(int)\n",
    "# y=labels['class'].astype(int)\n",
    "\n",
    "# for train_index, test_index in sss.split(X, y):\n",
    "#     trn_indx = train_index\n",
    "#     val_idxs = test_index\n",
    "\n",
    "all_indx = list(labels_model.index)[:-1]\n",
    "\n",
    "f_model=resnext101_64\n",
    "sz=512\n",
    "aug_tfms=transforms_side_on\n",
    "max_zoom=1.1\n",
    "bs=40\n",
    "#use this if we dont need augmentation\n",
    "augmentation_required = True\n",
    "\n",
    "model_name=str(f_model).split(' ')[1]\n"
   ]
  },
  {
   "cell_type": "code",
   "execution_count": 4,
   "metadata": {},
   "outputs": [],
   "source": [
    "#making data object\n",
    "data = get_data(f_model,sz,bs,all_indx,aug_tfms,root_path,train_folder,label_csv,test_folder,skip_header=True,augmentation_required=augmentation_required)"
   ]
  },
  {
   "cell_type": "code",
   "execution_count": 5,
   "metadata": {},
   "outputs": [],
   "source": [
    "learn.set_data(data)"
   ]
  },
  {
   "cell_type": "code",
   "execution_count": 6,
   "metadata": {},
   "outputs": [
    {
     "data": {
      "text/plain": [
       "32261"
      ]
     },
     "execution_count": 6,
     "metadata": {},
     "output_type": "execute_result"
    }
   ],
   "source": [
    "len(data.val_y)"
   ]
  },
  {
   "cell_type": "code",
   "execution_count": 7,
   "metadata": {},
   "outputs": [
    {
     "name": "stdout",
     "output_type": "stream",
     "text": [
      "(32261, 2)\n"
     ]
    },
    {
     "data": {
      "text/plain": [
       "numpy.ndarray"
      ]
     },
     "execution_count": 7,
     "metadata": {},
     "output_type": "execute_result"
    }
   ],
   "source": [
    "FC = learn.predict()\n",
    "\n",
    "print(FC.shape)\n",
    "\n",
    "type(FC)"
   ]
  },
  {
   "cell_type": "code",
   "execution_count": 16,
   "metadata": {},
   "outputs": [
    {
     "data": {
      "text/plain": [
       "(32261, 4)"
      ]
     },
     "execution_count": 16,
     "metadata": {},
     "output_type": "execute_result"
    }
   ],
   "source": [
    "probs_df.shape"
   ]
  },
  {
   "cell_type": "code",
   "execution_count": 9,
   "metadata": {},
   "outputs": [
    {
     "data": {
      "text/plain": [
       "RangeIndex(start=0, stop=2, step=1)"
      ]
     },
     "execution_count": 9,
     "metadata": {},
     "output_type": "execute_result"
    }
   ],
   "source": [
    "# probs = np.mean(np.exp(FC),0)\n",
    "probs_df = pd.DataFrame(FC)\n",
    "\n",
    "probs_df.head()\n",
    "\n",
    "probs_df.columns"
   ]
  },
  {
   "cell_type": "code",
   "execution_count": 11,
   "metadata": {},
   "outputs": [
    {
     "data": {
      "text/html": [
       "<div>\n",
       "<style scoped>\n",
       "    .dataframe tbody tr th:only-of-type {\n",
       "        vertical-align: middle;\n",
       "    }\n",
       "\n",
       "    .dataframe tbody tr th {\n",
       "        vertical-align: top;\n",
       "    }\n",
       "\n",
       "    .dataframe thead th {\n",
       "        text-align: right;\n",
       "    }\n",
       "</style>\n",
       "<table border=\"1\" class=\"dataframe\">\n",
       "  <thead>\n",
       "    <tr style=\"text-align: right;\">\n",
       "      <th></th>\n",
       "      <th>0</th>\n",
       "      <th>1</th>\n",
       "    </tr>\n",
       "  </thead>\n",
       "  <tbody>\n",
       "    <tr>\n",
       "      <th>0</th>\n",
       "      <td>-1.804488</td>\n",
       "      <td>-0.179795</td>\n",
       "    </tr>\n",
       "    <tr>\n",
       "      <th>1</th>\n",
       "      <td>-2.045909</td>\n",
       "      <td>-0.138415</td>\n",
       "    </tr>\n",
       "    <tr>\n",
       "      <th>2</th>\n",
       "      <td>-3.272828</td>\n",
       "      <td>-0.038636</td>\n",
       "    </tr>\n",
       "    <tr>\n",
       "      <th>3</th>\n",
       "      <td>-1.977848</td>\n",
       "      <td>-0.148925</td>\n",
       "    </tr>\n",
       "    <tr>\n",
       "      <th>4</th>\n",
       "      <td>-1.204371</td>\n",
       "      <td>-0.356504</td>\n",
       "    </tr>\n",
       "  </tbody>\n",
       "</table>\n",
       "</div>"
      ],
      "text/plain": [
       "          0         1\n",
       "0 -1.804488 -0.179795\n",
       "1 -2.045909 -0.138415\n",
       "2 -3.272828 -0.038636\n",
       "3 -1.977848 -0.148925\n",
       "4 -1.204371 -0.356504"
      ]
     },
     "execution_count": 11,
     "metadata": {},
     "output_type": "execute_result"
    }
   ],
   "source": [
    "probs_df.head()"
   ]
  },
  {
   "cell_type": "code",
   "execution_count": 12,
   "metadata": {},
   "outputs": [],
   "source": [
    "probs_df['imageid']=list(data.val_ds.fnames)\n",
    "probs_df['orginal_y']= list(data.val_ds.y)"
   ]
  },
  {
   "cell_type": "code",
   "execution_count": 13,
   "metadata": {},
   "outputs": [
    {
     "data": {
      "text/html": [
       "<div>\n",
       "<style scoped>\n",
       "    .dataframe tbody tr th:only-of-type {\n",
       "        vertical-align: middle;\n",
       "    }\n",
       "\n",
       "    .dataframe tbody tr th {\n",
       "        vertical-align: top;\n",
       "    }\n",
       "\n",
       "    .dataframe thead th {\n",
       "        text-align: right;\n",
       "    }\n",
       "</style>\n",
       "<table border=\"1\" class=\"dataframe\">\n",
       "  <thead>\n",
       "    <tr style=\"text-align: right;\">\n",
       "      <th></th>\n",
       "      <th>0</th>\n",
       "      <th>1</th>\n",
       "      <th>imageid</th>\n",
       "      <th>orginal_y</th>\n",
       "    </tr>\n",
       "  </thead>\n",
       "  <tbody>\n",
       "    <tr>\n",
       "      <th>0</th>\n",
       "      <td>-1.804488</td>\n",
       "      <td>-0.179795</td>\n",
       "      <td>/home/FRACTAL/shaheen.perveen/stage3/fakers/st...</td>\n",
       "      <td>1</td>\n",
       "    </tr>\n",
       "    <tr>\n",
       "      <th>1</th>\n",
       "      <td>-2.045909</td>\n",
       "      <td>-0.138415</td>\n",
       "      <td>/home/FRACTAL/shaheen.perveen/stage3/fakers/st...</td>\n",
       "      <td>1</td>\n",
       "    </tr>\n",
       "    <tr>\n",
       "      <th>2</th>\n",
       "      <td>-3.272828</td>\n",
       "      <td>-0.038636</td>\n",
       "      <td>/home/FRACTAL/shaheen.perveen/stage3/fakers/st...</td>\n",
       "      <td>1</td>\n",
       "    </tr>\n",
       "    <tr>\n",
       "      <th>3</th>\n",
       "      <td>-1.977848</td>\n",
       "      <td>-0.148925</td>\n",
       "      <td>/home/FRACTAL/shaheen.perveen/stage3/fakers/st...</td>\n",
       "      <td>1</td>\n",
       "    </tr>\n",
       "    <tr>\n",
       "      <th>4</th>\n",
       "      <td>-1.204371</td>\n",
       "      <td>-0.356504</td>\n",
       "      <td>/home/FRACTAL/shaheen.perveen/stage3/fakers/st...</td>\n",
       "      <td>1</td>\n",
       "    </tr>\n",
       "  </tbody>\n",
       "</table>\n",
       "</div>"
      ],
      "text/plain": [
       "          0         1                                            imageid  \\\n",
       "0 -1.804488 -0.179795  /home/FRACTAL/shaheen.perveen/stage3/fakers/st...   \n",
       "1 -2.045909 -0.138415  /home/FRACTAL/shaheen.perveen/stage3/fakers/st...   \n",
       "2 -3.272828 -0.038636  /home/FRACTAL/shaheen.perveen/stage3/fakers/st...   \n",
       "3 -1.977848 -0.148925  /home/FRACTAL/shaheen.perveen/stage3/fakers/st...   \n",
       "4 -1.204371 -0.356504  /home/FRACTAL/shaheen.perveen/stage3/fakers/st...   \n",
       "\n",
       "   orginal_y  \n",
       "0          1  \n",
       "1          1  \n",
       "2          1  \n",
       "3          1  \n",
       "4          1  "
      ]
     },
     "execution_count": 13,
     "metadata": {},
     "output_type": "execute_result"
    }
   ],
   "source": [
    "probs_df.head()"
   ]
  },
  {
   "cell_type": "code",
   "execution_count": 17,
   "metadata": {},
   "outputs": [
    {
     "data": {
      "text/plain": [
       "(32262, 2)"
      ]
     },
     "execution_count": 17,
     "metadata": {},
     "output_type": "execute_result"
    }
   ],
   "source": [
    "label_csv.shape"
   ]
  },
  {
   "cell_type": "code",
   "execution_count": null,
   "metadata": {},
   "outputs": [],
   "source": [
    "# #naming the columns accordingly to the data object since predictions are based on it\n",
    "# # probs_df.columns = data.classes\n",
    "# probs_df['imageid']=list(data.val_ds.fnames)\n",
    "# probs_df['orginal_y']= list(data.val_ds.y)\n",
    "# ##class_labels_names\n",
    "\n",
    "# ##class_labels_names\n",
    "# cls_lables_df =pd.DataFrame({'orginal_label':list(data.classes)})\n",
    "# cls_lables_df['orginal_y'] = cls_lables_df.index\n",
    "\n",
    "#naming the columns accordingly to the data object since predictions are based on it\n",
    "# probs_df.columns = data.classes\n",
    "#probs_df['imageid']=list(data.test_ds.fnames)\n",
    "#probs_df['orginal_y']= list(data.val_ds.y)\n",
    "##class_labels_names"
   ]
  },
  {
   "cell_type": "code",
   "execution_count": 18,
   "metadata": {},
   "outputs": [
    {
     "data": {
      "text/html": [
       "<div>\n",
       "<style scoped>\n",
       "    .dataframe tbody tr th:only-of-type {\n",
       "        vertical-align: middle;\n",
       "    }\n",
       "\n",
       "    .dataframe tbody tr th {\n",
       "        vertical-align: top;\n",
       "    }\n",
       "\n",
       "    .dataframe thead th {\n",
       "        text-align: right;\n",
       "    }\n",
       "</style>\n",
       "<table border=\"1\" class=\"dataframe\">\n",
       "  <thead>\n",
       "    <tr style=\"text-align: right;\">\n",
       "      <th></th>\n",
       "      <th>0</th>\n",
       "      <th>1</th>\n",
       "      <th>imageid</th>\n",
       "      <th>orginal_y</th>\n",
       "    </tr>\n",
       "  </thead>\n",
       "  <tbody>\n",
       "    <tr>\n",
       "      <th>0</th>\n",
       "      <td>-1.804488</td>\n",
       "      <td>-0.179795</td>\n",
       "      <td>/home/FRACTAL/shaheen.perveen/stage3/fakers/st...</td>\n",
       "      <td>1</td>\n",
       "    </tr>\n",
       "    <tr>\n",
       "      <th>1</th>\n",
       "      <td>-2.045909</td>\n",
       "      <td>-0.138415</td>\n",
       "      <td>/home/FRACTAL/shaheen.perveen/stage3/fakers/st...</td>\n",
       "      <td>1</td>\n",
       "    </tr>\n",
       "    <tr>\n",
       "      <th>2</th>\n",
       "      <td>-3.272828</td>\n",
       "      <td>-0.038636</td>\n",
       "      <td>/home/FRACTAL/shaheen.perveen/stage3/fakers/st...</td>\n",
       "      <td>1</td>\n",
       "    </tr>\n",
       "    <tr>\n",
       "      <th>3</th>\n",
       "      <td>-1.977848</td>\n",
       "      <td>-0.148925</td>\n",
       "      <td>/home/FRACTAL/shaheen.perveen/stage3/fakers/st...</td>\n",
       "      <td>1</td>\n",
       "    </tr>\n",
       "    <tr>\n",
       "      <th>4</th>\n",
       "      <td>-1.204371</td>\n",
       "      <td>-0.356504</td>\n",
       "      <td>/home/FRACTAL/shaheen.perveen/stage3/fakers/st...</td>\n",
       "      <td>1</td>\n",
       "    </tr>\n",
       "  </tbody>\n",
       "</table>\n",
       "</div>"
      ],
      "text/plain": [
       "          0         1                                            imageid  \\\n",
       "0 -1.804488 -0.179795  /home/FRACTAL/shaheen.perveen/stage3/fakers/st...   \n",
       "1 -2.045909 -0.138415  /home/FRACTAL/shaheen.perveen/stage3/fakers/st...   \n",
       "2 -3.272828 -0.038636  /home/FRACTAL/shaheen.perveen/stage3/fakers/st...   \n",
       "3 -1.977848 -0.148925  /home/FRACTAL/shaheen.perveen/stage3/fakers/st...   \n",
       "4 -1.204371 -0.356504  /home/FRACTAL/shaheen.perveen/stage3/fakers/st...   \n",
       "\n",
       "   orginal_y  \n",
       "0          1  \n",
       "1          1  \n",
       "2          1  \n",
       "3          1  \n",
       "4          1  "
      ]
     },
     "execution_count": 18,
     "metadata": {},
     "output_type": "execute_result"
    }
   ],
   "source": [
    "probs_df.head()"
   ]
  },
  {
   "cell_type": "code",
   "execution_count": 21,
   "metadata": {},
   "outputs": [],
   "source": [
    "probs_df.to_csv('/home/FRACTAL/shaheen.perveen/stage3/model_outputs/probs_train_val_test/'+'probs_train_val_org_fc_output_unfrz_resnext101_64_512sz.csv',index=False)"
   ]
  },
  {
   "cell_type": "code",
   "execution_count": 14,
   "metadata": {},
   "outputs": [
    {
     "data": {
      "text/plain": [
       "['fake', 'real']"
      ]
     },
     "execution_count": 14,
     "metadata": {},
     "output_type": "execute_result"
    }
   ],
   "source": [
    "data.classes"
   ]
  },
  {
   "cell_type": "code",
   "execution_count": null,
   "metadata": {},
   "outputs": [],
   "source": [
    "probs_df.to_csv(output_path_ensemble+'test_ela_fc_output_unfrz_resnext101_64_512sz_ela.csv', index=False)"
   ]
  }
 ],
 "metadata": {
  "kernelspec": {
   "display_name": "Python 3",
   "language": "python",
   "name": "python3"
  },
  "language_info": {
   "codemirror_mode": {
    "name": "ipython",
    "version": 3
   },
   "file_extension": ".py",
   "mimetype": "text/x-python",
   "name": "python",
   "nbconvert_exporter": "python",
   "pygments_lexer": "ipython3",
   "version": "3.7.1"
  }
 },
 "nbformat": 4,
 "nbformat_minor": 2
}
